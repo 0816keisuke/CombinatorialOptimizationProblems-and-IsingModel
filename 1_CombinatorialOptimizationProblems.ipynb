{
 "cells": [
  {
   "cell_type": "markdown",
   "metadata": {},
   "source": [
    "TBC..."
   ]
  }
 ],
 "metadata": {
  "kernelspec": {
   "display_name": "Python 3.10.7 ('jupyter-cb45Zlej')",
   "language": "python",
   "name": "python3"
  },
  "language_info": {
   "name": "python",
   "version": "3.10.8"
  },
  "orig_nbformat": 4,
  "vscode": {
   "interpreter": {
    "hash": "968904ad45888e225c6637ffdc61b26533ebff83fa0bb92be19105421efeeda0"
   }
  }
 },
 "nbformat": 4,
 "nbformat_minor": 2
}
