{
 "cells": [
  {
   "cell_type": "markdown",
   "metadata": {},
   "source": [
    "# Tutorial of Ising model & QUBO model"
   ]
  },
  {
   "cell_type": "markdown",
   "metadata": {},
   "source": [
    "## 初期設定\n",
    "### ライブラリのインポート"
   ]
  },
  {
   "cell_type": "code",
   "execution_count": 1,
   "metadata": {},
   "outputs": [],
   "source": [
    "import numpy as np\n",
    "import plotly.express as px\n",
    "np.set_printoptions(edgeitems=10)"
   ]
  },
  {
   "cell_type": "markdown",
   "metadata": {},
   "source": [
    "### 各種項目の設定\n",
    "- スピン数 : `num_spin`\n",
    "- 相互作用係数/外部磁場の最小値 : `coef_min`\n",
    "- 相互作用係数/外部磁場の最大値 : `coef_max`\n",
    "\n",
    "を設定する．  \n",
    "実際に動かして確認する際には，下記セルの値を変更して動かしてみてください．"
   ]
  },
  {
   "cell_type": "code",
   "execution_count": 2,
   "metadata": {},
   "outputs": [],
   "source": [
    "num_spin = 5\n",
    "coef_min = 0\n",
    "coef_max = 9"
   ]
  },
  {
   "cell_type": "markdown",
   "metadata": {},
   "source": [
    "## イジングモデル\n",
    "イジングモデルのエネルギー関数 $\\mathcal{H}$ は，次の式(1)で表される．\n",
    "$$\n",
    "\\begin{align}\n",
    "    s_i &=\n",
    "        \\begin{cases}\n",
    "            1 \\\\\n",
    "            -1 \\\\\n",
    "        \\end{cases} \\\\\n",
    "\\mathcal{H} &= \\sum_{(i,j) \\in E} J_{i,j} s_i s_j + \\sum_{i \\in V} h_i s_i \\tag{1}\n",
    "\\end{align}\n",
    "$$\n",
    "\n",
    "数式で見ても分かりづらいので，実際に中身を見ていこう．  \n",
    "まず，スピン $\\boldsymbol{s}$ の状態をランダムに設定する．"
   ]
  },
  {
   "cell_type": "code",
   "execution_count": 3,
   "metadata": {},
   "outputs": [
    {
     "name": "stdout",
     "output_type": "stream",
     "text": [
      "s = [ 1 -1  1 -1  1]\n"
     ]
    }
   ],
   "source": [
    "s = np.random.randint(0, 2, size=num_spin)\n",
    "s = np.where(s == 0, -1, s)\n",
    "print(f\"s = {s}\")"
   ]
  },
  {
   "cell_type": "markdown",
   "metadata": {},
   "source": [
    "次に，スピン $\\boldsymbol{s}$ におけるイジングモデル $J_{\\mathrm{ising}}$ をランダムに作成する．"
   ]
  },
  {
   "cell_type": "code",
   "execution_count": 4,
   "metadata": {},
   "outputs": [
    {
     "name": "stdout",
     "output_type": "stream",
     "text": [
      "J_ising = \n",
      "[[5 3 9 3 5]\n",
      " [0 8 4 3 9]\n",
      " [0 0 8 0 7]\n",
      " [0 0 0 4 4]\n",
      " [0 0 0 0 5]]\n"
     ]
    }
   ],
   "source": [
    "J_ising = np.zeros((num_spin, num_spin), dtype=np.int16)\n",
    "for i in range(num_spin):\n",
    "    J_ising[i, i:] = np.random.randint(coef_min, coef_max+1, size=num_spin-i)\n",
    "print(f\"J_ising = \\n{J_ising}\")"
   ]
  },
  {
   "cell_type": "markdown",
   "metadata": {},
   "source": [
    "これで準備は終わり．  \n",
    "ハミルトニアン $\\mathcal{H}\\mathrm{ising}$ の値を計算してみよう．  \n",
    "計算方法は以下の2通り．\n",
    "1. 式(1)を展開して，1個ずつ丁寧に足していく\n",
    "2. 行列計算を用いる\n",
    "\n",
    "まずは，  \n",
    "`1. 式(1)を展開して，1個ずつ丁寧に足していく`  \n",
    "方法でやってみる．"
   ]
  },
  {
   "cell_type": "code",
   "execution_count": 5,
   "metadata": {},
   "outputs": [
    {
     "name": "stdout",
     "output_type": "stream",
     "text": [
      "J_01 * s_0 * s_1 = 3 * 1 * -1 = -3 -> Total: -3\n",
      "J_02 * s_0 * s_2 = 9 * 1 * 1 = 9 -> Total: 6\n",
      "J_03 * s_0 * s_3 = 3 * 1 * -1 = -3 -> Total: 3\n",
      "J_04 * s_0 * s_4 = 5 * 1 * 1 = 5 -> Total: 8\n",
      "J_12 * s_1 * s_2 = 4 * -1 * 1 = -4 -> Total: 4\n",
      "J_13 * s_1 * s_3 = 3 * -1 * -1 = 3 -> Total: 7\n",
      "J_14 * s_1 * s_4 = 9 * -1 * 1 = -9 -> Total: -2\n",
      "J_23 * s_2 * s_3 = 0 * 1 * -1 = 0 -> Total: -2\n",
      "J_24 * s_2 * s_4 = 7 * 1 * 1 = 7 -> Total: 5\n",
      "J_34 * s_3 * s_4 = 4 * -1 * 1 = -4 -> Total: 1\n",
      "H = 1, \n",
      "\n",
      "h_0 * s_0 = 5 * 1 = 5 -> Total: 6\n",
      "h_1 * s_1 = 8 * -1 = -8 -> Total: -2\n",
      "h_2 * s_2 = 8 * 1 = 8 -> Total: 6\n",
      "h_3 * s_3 = 4 * -1 = -4 -> Total: 2\n",
      "h_4 * s_4 = 5 * 1 = 5 -> Total: 7\n",
      "H = 7\n",
      "\n",
      "-> The Hamiltonian is 7.\n"
     ]
    }
   ],
   "source": [
    "# 式(1)第1項：相互作用係数の計算\n",
    "H1_ising = 0\n",
    "for i in range(num_spin):\n",
    "    for j in range(i+1, num_spin):\n",
    "        H1_ising += J_ising[i,j] * s[i] * s[j]\n",
    "        print(f\"J_{i}{j} * s_{i} * s_{j} = {J_ising[i,j]} * {s[i]} * {s[j]} = {J_ising[i,j] * s[i] * s[j]} -> Total: {H1_ising}\")\n",
    "print(f\"H = {H1_ising}, \\n\")\n",
    "\n",
    "# 式(1)第2項：外部磁場の計算\n",
    "for i in range(num_spin):\n",
    "    H1_ising += J_ising[i,i] * s[i]\n",
    "    print(f\"h_{i} * s_{i} = {J_ising[i,i]} * {s[i]} = {J_ising[i,i] * s[i]} -> Total: {H1_ising}\")\n",
    "print(f\"H = {H1_ising}\\n\")\n",
    "\n",
    "print(f\"-> The Hamiltonian is {H1_ising}.\")"
   ]
  },
  {
   "cell_type": "markdown",
   "metadata": {},
   "source": [
    "次に，  \n",
    "`2. 行列計算を用いる`\n",
    "\n",
    "方法でやってみる．  \n",
    "式(1)は，次の式(2)のように書き換えることができる．\n",
    "$$\n",
    "\\begin{align}\n",
    "    \\mathcal{H}_{\\mathrm{qubo}} &= \\sum_{(i,j) \\in E} J_{i,j} s_i s_j + \\sum_{i \\in V} h_i s_i \\\\\n",
    "    &= \\boldsymbol{s}^T \\left( J - diag(J) \\right) \\boldsymbol{s} + <diag(J), \\boldsymbol{s}> \\tag{3}\n",
    "\\end{align}\n",
    "$$\n",
    "\n",
    "ただし，\n",
    "$$\n",
    "J =\n",
    "\\begin{cases}\n",
    "    J_{i,j} \\quad \\mathrm{if} ~ i \\ne j \\\\\n",
    "    h_i  \\quad \\mathrm{if} ~ i = j \\\\\n",
    "\\end{cases}\n",
    "$$\n",
    "\n",
    "したがって，式(3)に基づいて，エネルギー関数 $\\mathcal{H}_{\\mathrm{ising}}$ の値を計算する．"
   ]
  },
  {
   "cell_type": "code",
   "execution_count": 6,
   "metadata": {},
   "outputs": [
    {
     "name": "stdout",
     "output_type": "stream",
     "text": [
      "H_ising = 7\n"
     ]
    }
   ],
   "source": [
    "H2_ising = 0\n",
    "\n",
    "H2_ising = int(np.dot(np.dot(s, np.triu(J_ising, k=1)), s)) + np.dot(s, np.diag(J_ising))\n",
    "print(f\"H_ising = {H2_ising}\")"
   ]
  },
  {
   "cell_type": "markdown",
   "metadata": {},
   "source": [
    "以上より，QUBOモデルにおいては，\n",
    "1. 式(2)を展開して，1個ずつ丁寧に足していく\n",
    "2. 式(2)を1つにまとめて，行列を用いて計算する\n",
    "\n",
    "のどちらで計算してもハミルトニアンの値は変わらない．  \n",
    "\n",
    "\n",
    "## QUBOモデル\n",
    "\n",
    "QUBOモデルのエネルギー関数 $\\mathcal{H}_{\\mathrm{qubo}}$ は，次の式(1)で表される．\n",
    "$$\n",
    "\\begin{align}\n",
    "    x_i &=\n",
    "        \\begin{cases}\n",
    "            1 \\quad\\\\\n",
    "            0 \\quad\\\\\n",
    "        \\end{cases} \\\\\n",
    "\\mathcal{H}_{\\mathrm{qubo}} &= \\sum_{(i,j) \\in E} J'_{i,j} x_i x_j + \\sum_{i \\in V} h'_i x_i + \\mathrm{const} \\tag{2}\n",
    "\\end{align}\n",
    "$$\n",
    "\n",
    "ただし，$\\mathrm{const}$ は定数．  \n",
    "数式で見ても分かりづらいので，実際に中身を見ていこう．  \n",
    "まず，スピン $\\boldsymbol{x}$ の状態をランダムに設定する．"
   ]
  },
  {
   "cell_type": "code",
   "execution_count": 7,
   "metadata": {},
   "outputs": [
    {
     "name": "stdout",
     "output_type": "stream",
     "text": [
      "x = [1 1 1 0 0]\n",
      "\n"
     ]
    }
   ],
   "source": [
    "x = np.random.randint(0, 2, size=num_spin)\n",
    "print(f\"x = {x}\\n\")"
   ]
  },
  {
   "cell_type": "markdown",
   "metadata": {},
   "source": [
    "次に，スピン $\\boldsymbol{x}$ におけるイジングモデル $J_{\\mathrm{qubo}}$ をランダムに作成する．"
   ]
  },
  {
   "cell_type": "code",
   "execution_count": 8,
   "metadata": {},
   "outputs": [
    {
     "name": "stdout",
     "output_type": "stream",
     "text": [
      "J_qubo = \n",
      "[[7 8 3 3 5]\n",
      " [0 3 8 6 8]\n",
      " [0 0 0 3 3]\n",
      " [0 0 0 8 8]\n",
      " [0 0 0 0 4]]\n"
     ]
    }
   ],
   "source": [
    "J_qubo = np.zeros((num_spin, num_spin), dtype=np.int16)\n",
    "for i in range(num_spin):\n",
    "    J_qubo[i, i:] = np.random.randint(coef_min, coef_max+1, size=num_spin-i)\n",
    "print(f\"J_qubo = \\n{J_qubo}\")"
   ]
  },
  {
   "cell_type": "markdown",
   "metadata": {},
   "source": [
    "これで準備は終わり．  \n",
    "ハミルトニアン $\\mathcal{H}_{\\mathrm{qubo}}$ の値を計算してみよう．  \n",
    "計算方法は以下の2通り．  \n",
    "1. 式(2)を展開して，1個ずつ丁寧に足していく\n",
    "2. 式(2)を1つにまとめて，行列を用いて計算する\n",
    "\n",
    "まずは，  \n",
    "`1. 式(2)を展開して，1個ずつ丁寧に足していく`  \n",
    "方法でやってみる"
   ]
  },
  {
   "cell_type": "code",
   "execution_count": 9,
   "metadata": {},
   "outputs": [
    {
     "name": "stdout",
     "output_type": "stream",
     "text": [
      "J_01 * x_0 * x_1 = 8 * 1 * 1 = 8 -> Total: 8\n",
      "J_02 * x_0 * x_2 = 3 * 1 * 1 = 3 -> Total: 11\n",
      "J_03 * x_0 * x_3 = 3 * 1 * 0 = 0 -> Total: 11\n",
      "J_04 * x_0 * x_4 = 5 * 1 * 0 = 0 -> Total: 11\n",
      "J_12 * x_1 * x_2 = 8 * 1 * 1 = 8 -> Total: 19\n",
      "J_13 * x_1 * x_3 = 6 * 1 * 0 = 0 -> Total: 19\n",
      "J_14 * x_1 * x_4 = 8 * 1 * 0 = 0 -> Total: 19\n",
      "J_23 * x_2 * x_3 = 3 * 1 * 0 = 0 -> Total: 19\n",
      "J_24 * x_2 * x_4 = 3 * 1 * 0 = 0 -> Total: 19\n",
      "J_34 * x_3 * x_4 = 8 * 0 * 0 = 0 -> Total: 19\n",
      "H = 19, \n",
      "\n",
      "h_0 * x_0 = 7 * 1 = 7 -> Total: 26\n",
      "h_1 * x_1 = 3 * 1 = 3 -> Total: 29\n",
      "h_2 * x_2 = 0 * 1 = 0 -> Total: 29\n",
      "h_3 * x_3 = 8 * 0 = 0 -> Total: 29\n",
      "h_4 * x_4 = 4 * 0 = 0 -> Total: 29\n",
      "H = 29\n",
      "\n",
      "-> H_qubo = 29.\n"
     ]
    }
   ],
   "source": [
    "# 式(2)-第1項：相互作用係数の計算\n",
    "H1_qubo = 0\n",
    "for i in range(num_spin):\n",
    "    for j in range(i+1, num_spin):\n",
    "        H1_qubo += J_qubo[i,j] * x[i] * x[j]\n",
    "        print(f\"J_{i}{j} * x_{i} * x_{j} = {J_qubo[i,j]} * {x[i]} * {x[j]} = {J_qubo[i,j] * x[i] * x[j]} -> Total: {H1_qubo}\")\n",
    "print(f\"H = {H1_qubo}, \\n\")\n",
    "\n",
    "# 式(1)-第2項：外部磁場の計算\n",
    "for i in range(num_spin):\n",
    "    H1_qubo += J_qubo[i,i] * x[i]\n",
    "    print(f\"h_{i} * x_{i} = {J_qubo[i,i]} * {x[i]} = {J_qubo[i,i] * x[i]} -> Total: {H1_qubo}\")\n",
    "print(f\"H = {H1_qubo}\\n\")\n",
    "\n",
    "print(f\"-> H_qubo = {H1_qubo}.\")"
   ]
  },
  {
   "cell_type": "markdown",
   "metadata": {},
   "source": [
    "次に，  \n",
    "`2. 式(2)を1つにまとめて，行列を用いて計算する`  \n",
    "方法でやってみる．  \n",
    "式(2)は，次の式(3)のように書き換えることができる．\n",
    "$$\n",
    "\\begin{align}\n",
    "    \\mathcal{H}_{\\mathrm{qubo}} &= \\sum_{(i,j) \\in E} J'_{i,j} x_i x_j + \\sum_{i \\in V} h'_i x_i + \\mathrm{const} \\\\\n",
    "    &= -\\boldsymbol{x}^T Q \\boldsymbol{x} + \\mathrm{const} \\tag{3}\n",
    "\\end{align}\n",
    "$$\n",
    "\n",
    "式(3)に基づいて，エネルギー関数 $\\mathcal{H}_{\\mathrm{qubo}}$ の値を計算する．"
   ]
  },
  {
   "cell_type": "code",
   "execution_count": 10,
   "metadata": {},
   "outputs": [
    {
     "name": "stdout",
     "output_type": "stream",
     "text": [
      "H_qubo = 29\n"
     ]
    }
   ],
   "source": [
    "H2_qubo = int(np.dot(np.dot(x, J_qubo), x))\n",
    "print(f\"H_qubo = {H2_qubo}\")"
   ]
  },
  {
   "cell_type": "markdown",
   "metadata": {},
   "source": [
    "以上より，QUBOモデルにおいては，\n",
    "1. 式(2)を展開して，1個ずつ丁寧に足していく\n",
    "2. 式(2)を1つにまとめて，行列を用いて計算する\n",
    "\n",
    "のどちらで計算してもハミルトニアンの値は変わらない．  \n",
    "\n",
    "なぜ変わらないのかを，スピン数が4の場合のQUBOモデルで考えてみよう．\n",
    "\n",
    "$$\n",
    "\\begin{align}\n",
    "    \\mathcal{H}_{\\mathrm{qubo}} &=  \\boldsymbol{x}^T Q \\boldsymbol{x} \\\\\n",
    "    &= \\left[ x_1 ~ x_2 ~ x_3 ~ x_4 \\right]\n",
    "        \\left[\\begin{array}{cccc}\n",
    "        q_{1,1} & q_{1,2} & q_{1,3} & q_{1,4} \\\\\n",
    "        0       & q_{2,2} & q_{2,3} & q_{2,4} \\\\\n",
    "        0       & 0       & q_{3,3} & q_{3,4} \\\\\n",
    "        0       & 0       & 0       & q_{4,4} \\\\\n",
    "        \\end{array}\\right]\n",
    "        \\left[\\begin{array}{c}\n",
    "            x_1 \\\\  x_2 \\\\ x_3 \\\\ x_4\n",
    "        \\end{array}\\right] \\\\\n",
    "    &= \\left[ q_{1,1} x_1 ~~ q_{1,2} x_1 + q_{2,2} x_2 ~~ q_{1,3} x_1 + q_{2,3} x_2 + q_{3,3} x_3 ~~ q_{1,4} x_1 + q_{2,4} x_2 + q_{3,4} x_3 + q_{4,4} x_4 \\right]\n",
    "        \\left[\\begin{array}{c}\n",
    "            x_1 \\\\  x_2 \\\\ x_3 \\\\ x_4\n",
    "        \\end{array}\\right] \\\\\n",
    "    &= q_{1,1} x_1^2 + q_{1,2} x_1 x_2 + q_{2,2} x_2^2 + q_{1,3} x_1 x_3 + q_{2,3} x_2 x_3 + q_{3,3} x_3^2 + q_{1,4} x_1 x_4 + q_{2,4} x_2 x_4 + q_{3,4} x_3 x_4 + q_{4,4} x_4^2 \\\\\n",
    "    & (x_i = [0,1]よりx_i^2 = x_iであるから) \\\\\n",
    "    &= q_{1,2} x_1 x_2 + q_{1,3} x_1 x_3 + q_{1,4} x_1 x_4 + q_{2,3} x_2 x_3 + q_{2,4} x_2 x_4 + q_{3,4} x_3 x_4 + q_{1,1} x_1 + q_{2,2} x_2 + q_{3,3} x_3 + q_{4,4} x_4 \\\\\n",
    "    &= \\sum_{i=1}^3 \\sum_{j=i+1}^4 q_{i,j} x_i x_j + \\sum_{i=1}^4 q_{i,i} x_i  \\tag{4}\n",
    "\\end{align}\n",
    "$$\n",
    "\n",
    "したがって，\n",
    "\n",
    "$$\n",
    "\\begin{align}\n",
    "    \\mathcal{H}_{\\mathrm{qubo}} &=  \\boldsymbol{x}^T Q \\boldsymbol{x} \\\\\n",
    "    &= \\sum_{i>j} q_{i,j} x_i x_j + \\sum_{i} q_{i,i} x_i \\\\\n",
    "    & (q_{i,j}=J'_{i,j}, ~q_{i,i}=h'_iとすれば(：単に文字が違うだけで中身は同じ)) \\\\\n",
    "    &= \\sum_{(i,j) \\in E} J'_{i,j} x_i x_j + \\sum_{i \\in V} h'_i x_i + \\mathrm{const} \\tag{5}\n",
    "\\end{align}\n",
    "$$\n",
    "ただし，$\\mathrm{const}=0$である．  \n",
    "したがって，式(2)と式(3)は等価なので，\n",
    "1. 式(2)を展開して，1個ずつ丁寧に足していく\n",
    "2. 式(2)を1つにまとめて，行列を用いて計算する\n",
    "\n",
    "のどちらで計算しても良いことになる．  \n",
    "\n",
    "ここで1つ，疑問に出てくるモノがある．  \n",
    "**Q. 行列を用いる計算は，イジングモデルには適用できないのか？**  \n",
    "**A. できない**  \n",
    "なぜかというと，QUBOモデルでは$x_i=[0,1]$より，$x_i^2=x_i$と変換することができたが，イジングモデルでは$s_i=[-1,1]$であることから，$s_i^2 \\ne s_i$だからである．  \n",
    "つまり，イジングモデルにおけるハミルトニアンの計算では  \n",
    "1. 式(2)を展開して，1個ずつ丁寧に足していく\n",
    "\n",
    "という手法を用いて，地道に計算していくしかない．\n",
    "\n",
    "\n",
    "## イジングモデルとQUBOモデルの変換\n",
    "\n",
    "**イジングモデル -> QUBOモデルを考える**\n",
    "\n",
    "$$\n",
    "\\begin{align}\n",
    "    \\mathcal{H}_{\\mathrm{ising}} &= \\sum_{(i,j) \\in E} J_{i,j} s_i s_j + \\sum_{i \\in V} h_i s_i \\\\\n",
    "    &= \\sum_{(i,j) \\in E} J_{i,j} (2 x_i - 1) (2 x_j - 1) + \\sum_{i \\in V} h_i (2 x_i - 1) \\\\\n",
    "    &= \\sum_{(i,j) \\in E} J_{i,j} (4 x_i x_j - 2 x_i - 2 x_j + 1) + \\sum_{i \\in V} h_i (2 x_i - 1) \\\\\n",
    "    &= \\left( \\sum_{(i,j) \\in E} 4 J_{i,j} x_i x_j - \\sum_{(i,j) \\in E} 2 J_{i,j} x_i - \\sum_{(i,j) \\in E} 2 J_{i,j} x_j + \\sum_{(i,j) \\in E} J_{i,j} \\right) + \\left( \\sum_{i \\in V} 2 h_i x_i - \\sum_{i \\in V} h_i \\right) \\\\\n",
    "    &= \\left( \\sum_{(i,j) \\in E} 4 J_{i,j} x_i x_j \\right) + \\left( - \\sum_{(i,j) \\in E} 2 J_{i,j} x_i - \\sum_{(i,j) \\in E} 2 J_{i,j} x_j + \\sum_{i \\in V} 2 h_i x_i \\right) + \\left(\\sum_{(i,j) \\in E} J_{i,j} - \\sum_{i \\in V} h_i \\right) \\\\\n",
    "    &= \\sum_{(i,j) \\in E} 4 J_{i,j} x_i x_j + \\left( \\sum_{i \\in V} 2 h_i x_i - \\sum_{(i,j) \\in E} 2 J_{i,j} x_i - \\sum_{(i,j) \\in E} 2 J_{i,j} x_j \\right) + \\mathrm{const} \\\\\n",
    "    &= \\sum_{(i,j) \\in E} 4 J_{i,j} x_i x_j + \\left( \\sum_{i \\in V} 2 h_i x_i - \\sum_{(i,j) \\in E} 4 J_{i,j} x_i \\right) + \\mathrm{const} \\\\\n",
    "    &= \\sum_{(i,j) \\in E} 4 J_{i,j} x_i x_j + \\left\\{ \\sum_{i \\in V} \\left( 2 h_i - \\sum_{j \\in \\delta_i} 4 J_{i,j} \\right) x_i \\right\\} + \\mathrm{const} \\\\\n",
    "    &= \\sum_{(i,j) \\in E} J'_{i,j} x_i x_j - \\sum_{i \\in V} h'_i x_i + \\mathrm{const} \\tag{6}\n",
    "\\end{align}\n",
    "$$\n",
    "\n",
    "したがって，\n",
    "\n",
    "$$\n",
    "\\begin{align}\n",
    "    J'_{i,j} &= 4 J_{i,j} \\\\\n",
    "    h'_i &= 2 h_i - \\sum_{j \\in \\delta_i} 4 J_{i,j} \\tag{7}\n",
    "\\end{align}\n",
    "$$\n",
    "\n",
    "**QUBOモデル -> イジングモデルを考える**\n",
    "$$\n",
    "\\begin{align}\n",
    "    \\mathcal{H}_{\\mathrm{qubo}} &= \\sum_{(i,j) \\in E} J'_{i,j} x_i x_j + \\sum_{i \\in V} h'_i x_i \\\\\n",
    "    &= \\sum_{(i,j) \\in E} J'_{i,j} \\frac{\\left( s_i+1 \\right)}{2} \\frac{\\left( s_j+1 \\right)}{2} + \\sum_{i \\in V} h'_i \\frac{\\left( s_i+1 \\right)}{2} \\\\\n",
    "    &= \\sum_{(i,j) \\in E} \\frac{J'_{i,j}}{4} \\left( s_i s_j + s_i + s_j + 1 \\right) + \\sum_{i \\in V} \\frac{h'_i}{2} \\left( s_i + 1 \\right)\\\\\n",
    "    &= \\left( \\sum_{(i,j) \\in E} \\frac{J'_{i,j}}{4} s_i s_j + \\sum_{(i,j) \\in E} \\frac{J'_{i,j}}{4} s_i + \\sum_{(i,j) \\in E} \\frac{J'_{i,j}}{4} s_j + \\sum_{(i,j) \\in E} \\frac{J'_{i,j}}{4} \\right) + \\left( \\sum_{i \\in V} \\frac{h'_i}{2} s_i + \\sum_{i \\in V} \\frac{h'_i}{2} \\right) \\\\\n",
    "    &= \\left( \\sum_{(i,j) \\in E} \\frac{J'_{i,j}}{4} s_i s_j \\right) + \\left( \\sum_{(i,j) \\in E} \\frac{J'_{i,j}}{4} s_i + \\sum_{(i,j) \\in E} \\frac{J'_{i,j}}{4} s_j + \\sum_{i \\in V} \\frac{h'_i}{2} s_i \\right) + \\left( \\sum_{(i,j) \\in E} \\frac{J'_{i,j}}{4} + \\sum_{i \\in V} \\frac{h'_i}{2} \\right) \\\\\n",
    "    &= \\sum_{(i,j) \\in E} \\frac{J'_{i,j}}{4} s_i s_j + \\left( \\sum_{i \\in V} \\frac{h'_i}{2} s_i + \\sum_{(i,j) \\in E} \\frac{J'_{i,j}}{2} s_i \\right) + \\mathrm{const} \\\\\n",
    "    &= \\sum_{(i,j) \\in E} \\frac{J'_{i,j}}{4} s_i s_j + \\sum_{i \\in V} \\left( \\frac{h'_i}{2} + \\sum_{j \\in \\delta_i} \\frac{J'_{i,j}}{2} \\right) s_i + \\mathrm{const} \\\\\n",
    "    &= \\sum_{(i,j) \\in E} J_{i,j} s_i s_j + \\sum_{i \\in V} h_i s_i \\tag{8}\n",
    "\\end{align}\n",
    "$$\n",
    "\n",
    "したがって，\n",
    "\n",
    "$$\n",
    "\\begin{align}\n",
    "    J_{i,j} &= \\frac{J'_{i,j}}{4} \\\\\n",
    "    h_i &= \\frac{h'_i}{2} + \\sum_{j \\in \\delta_i} \\frac{J'_{i,j}}{2} \\tag{9}\n",
    "\\end{align}\n",
    "$$\n",
    "\n",
    "## QUBOモデルの形式による違い\n",
    "QUBOモデルが\n",
    "1. 上三角行列\n",
    "2. 下三角行列\n",
    "3. 対称行列\n",
    "\n",
    "の場合で，ハミルトニアンを比較してみる．  \n",
    "まずは，スピン $\\boldsymbol{x}$ の状態をランダムに設定する．"
   ]
  },
  {
   "cell_type": "code",
   "execution_count": 11,
   "metadata": {},
   "outputs": [
    {
     "name": "stdout",
     "output_type": "stream",
     "text": [
      "x = [1 0 0 1 0]\n",
      "\n"
     ]
    }
   ],
   "source": [
    "x = np.random.randint(0, 2, size=num_spin)\n",
    "print(f\"x = {x}\\n\")"
   ]
  },
  {
   "cell_type": "code",
   "execution_count": 12,
   "metadata": {},
   "outputs": [
    {
     "name": "stdout",
     "output_type": "stream",
     "text": [
      "Q_upper = \n",
      "[[6 3 3 9 6]\n",
      " [0 6 7 6 4]\n",
      " [0 0 8 1 4]\n",
      " [0 0 0 0 2]\n",
      " [0 0 0 0 8]]\n",
      "\n",
      "H = 15\n"
     ]
    }
   ],
   "source": [
    "# ========== 上三角行列の場合 ==========\n",
    "Q_upper = np.zeros((num_spin, num_spin), dtype=np.int16)\n",
    "for i in range(num_spin):\n",
    "    Q_upper[i, i:] = np.random.randint(coef_min, coef_max+1, size=num_spin-i)\n",
    "print(f\"Q_upper = \\n{Q_upper}\\n\")\n",
    "\n",
    "H_upper = int(np.dot(np.dot(x, Q_upper), x))\n",
    "print(f\"H = {H_upper}\")"
   ]
  },
  {
   "cell_type": "code",
   "execution_count": 13,
   "metadata": {},
   "outputs": [
    {
     "name": "stdout",
     "output_type": "stream",
     "text": [
      "Q_lower = \n",
      "[[6 0 0 0 0]\n",
      " [3 6 0 0 0]\n",
      " [3 7 8 0 0]\n",
      " [9 6 1 0 0]\n",
      " [6 4 4 2 8]]\n",
      "\n",
      "H = 15\n"
     ]
    }
   ],
   "source": [
    "# 2. 下三角行列の場合\n",
    "Q_lower = Q_upper.T\n",
    "print(f\"Q_lower = \\n{Q_lower}\\n\")\n",
    "\n",
    "H_upper = int(np.dot(np.dot(x, Q_upper), x))\n",
    "print(f\"H = {H_upper}\")"
   ]
  },
  {
   "cell_type": "code",
   "execution_count": 14,
   "metadata": {},
   "outputs": [
    {
     "name": "stdout",
     "output_type": "stream",
     "text": [
      "Q_sym = \n",
      "[[12  3  3  9  6]\n",
      " [ 3 12  7  6  4]\n",
      " [ 3  7 16  1  4]\n",
      " [ 9  6  1  0  2]\n",
      " [ 6  4  4  2 16]]\n",
      "\n",
      "H = 30\n"
     ]
    }
   ],
   "source": [
    "# 3. 対称行列の場合\n",
    "Q_sym = Q_upper + Q_upper.T\n",
    "print(f\"Q_sym = \\n{Q_sym}\\n\")\n",
    "\n",
    "H_sym = int(np.dot(np.dot(x, Q_sym), x))\n",
    "print(f\"H = {H_sym}\")"
   ]
  },
  {
   "cell_type": "markdown",
   "metadata": {},
   "source": [
    "以上より，QUBOモデルは\n",
    "1. 上三角行列\n",
    "2. 下三角行列\n",
    "3. 対称行列\n",
    "\n",
    "のどれで表現してもよい．  \n",
    "ただし，対称行列で表現するとハミルトニアンの値は2倍になる．  \n",
    "2倍になるが，各状態におけるハミルトニアンも2倍になる(要は，解空間全体が2倍にシフトするだけで，基底状態は変わらない)ので問題はない．"
   ]
  },
  {
   "cell_type": "markdown",
   "metadata": {},
   "source": [
    "## 非対称QUBOモデル\n",
    "扱う問題によっては，稀にQUBOモデルが非対称行列となることがある．  \n",
    "例えば，[QAPLIB](https://www.opt.math.tugraz.at/qaplib/inst.html)の[Bur26a](https://www.opt.math.tugraz.at/qaplib/data.d/bur26a.dat)インスタンスは，QUBOモデルに落とし込むと非対称QUBO行列が生成される．  \n",
    "ここでは，非対称QUBOモデルについて考えてみる．"
   ]
  },
  {
   "cell_type": "code",
   "execution_count": 15,
   "metadata": {},
   "outputs": [
    {
     "name": "stdout",
     "output_type": "stream",
     "text": [
      "Q_asym = \n",
      "[[3 2 0 3 5]\n",
      " [6 1 4 3 6]\n",
      " [8 4 3 1 3]\n",
      " [5 6 9 0 7]\n",
      " [4 6 2 8 9]]\n",
      "\n",
      "H = 11\n"
     ]
    }
   ],
   "source": [
    "# ========== 非対称行列の場合 ==========\n",
    "Q_asym = np.random.randint(coef_min, coef_max+1, size=(num_spin, num_spin))\n",
    "print(f\"Q_asym = \\n{Q_asym}\\n\")\n",
    "\n",
    "H_asym = int(np.dot(np.dot(x, Q_asym), x))\n",
    "print(f\"H = {H_asym}\")"
   ]
  },
  {
   "cell_type": "markdown",
   "metadata": {},
   "source": [
    "非対称QUBO行列を$Q_{\\mathrm{asym}}$，対称QUBO行列を$Q_{\\mathrm{sym}}$とすると，  \n",
    "$$\n",
    "Q_{\\mathrm{sym}} = \\left( Q_{\\mathrm{asym}}の上三角行列 \\right) + \\left( Q_{\\mathrm{asym}}の下三角行列 \\right)^T - \\left( Q_{\\mathrm{asym}}の対角成分 \\right)\n",
    "$$\n",
    "とすることで，$Q_{\\mathrm{asym}}$に等価な$Q_{\\mathrm{sym}}$を生成することができる．"
   ]
  },
  {
   "cell_type": "code",
   "execution_count": 16,
   "metadata": {},
   "outputs": [
    {
     "name": "stdout",
     "output_type": "stream",
     "text": [
      "Q_sym = \n",
      "[[ 3  8  8  8  9]\n",
      " [ 0  1  8  9 12]\n",
      " [ 0  0  3 10  5]\n",
      " [ 0  0  0  0 15]\n",
      " [ 0  0  0  0  9]]\n",
      "\n",
      "H = 11\n"
     ]
    }
   ],
   "source": [
    "Q_sym = np.triu(Q_asym) + np.tril(Q_asym).T - np.diag(Q_asym.diagonal())\n",
    "print(f\"Q_sym = \\n{Q_sym}\\n\")\n",
    "\n",
    "H_sym = int(np.dot(np.dot(x, Q_sym), x))\n",
    "print(f\"H = {H_sym}\")"
   ]
  },
  {
   "cell_type": "code",
   "execution_count": null,
   "metadata": {},
   "outputs": [],
   "source": []
  }
 ],
 "metadata": {
  "kernelspec": {
   "display_name": "Python 3.10.7 ('jupyter-cb45Zlej')",
   "language": "python",
   "name": "python3"
  },
  "language_info": {
   "codemirror_mode": {
    "name": "ipython",
    "version": 3
   },
   "file_extension": ".py",
   "mimetype": "text/x-python",
   "name": "python",
   "nbconvert_exporter": "python",
   "pygments_lexer": "ipython3",
   "version": "3.10.8"
  },
  "orig_nbformat": 4,
  "vscode": {
   "interpreter": {
    "hash": "968904ad45888e225c6637ffdc61b26533ebff83fa0bb92be19105421efeeda0"
   }
  }
 },
 "nbformat": 4,
 "nbformat_minor": 2
}
